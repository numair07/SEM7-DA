{
  "nbformat": 4,
  "nbformat_minor": 0,
  "metadata": {
    "colab": {
      "name": "Sales_Analysis.ipynb",
      "provenance": [],
      "collapsed_sections": []
    },
    "kernelspec": {
      "name": "python3",
      "display_name": "Python 3"
    },
    "language_info": {
      "name": "python"
    }
  },
  "cells": [
    {
      "cell_type": "code",
      "metadata": {
        "id": "kXQTs2UVC8gM"
      },
      "source": [
        "import pandas as pd\n",
        "import numpy as np"
      ],
      "execution_count": 55,
      "outputs": []
    },
    {
      "cell_type": "code",
      "metadata": {
        "colab": {
          "base_uri": "https://localhost:8080/",
          "height": 0
        },
        "id": "DnEcPLZtDNvT",
        "outputId": "3fc932bf-9da7-4b47-c59a-9018fd38c30c"
      },
      "source": [
        "data = pd.read_csv(\"sales_data.csv\")\n",
        "print(data.head())"
      ],
      "execution_count": 56,
      "outputs": [
        {
          "output_type": "stream",
          "name": "stdout",
          "text": [
            "  Item_Identifier  Item_Weight  ...        Outlet_Type  Item_Outlet_Sales\n",
            "0           FDA15         9.30  ...  Supermarket Type1          3735.1380\n",
            "1           DRC01         5.92  ...  Supermarket Type2           443.4228\n",
            "2           FDN15        17.50  ...  Supermarket Type1          2097.2700\n",
            "3           FDX07        19.20  ...      Grocery Store           732.3800\n",
            "4           NCD19         8.93  ...  Supermarket Type1           994.7052\n",
            "\n",
            "[5 rows x 12 columns]\n"
          ]
        }
      ]
    },
    {
      "cell_type": "code",
      "metadata": {
        "id": "y7RD91iZRoKO"
      },
      "source": [
        "#drop irrelevant columns\n",
        "data.drop([\"Item_Identifier\", \"Outlet_Identifier\"], axis=1, inplace=True)"
      ],
      "execution_count": 57,
      "outputs": []
    },
    {
      "cell_type": "code",
      "metadata": {
        "id": "e075g2RFRy9f"
      },
      "source": [
        "#replace null values with median\n",
        "data = data.fillna(data.median())"
      ],
      "execution_count": 59,
      "outputs": []
    },
    {
      "cell_type": "code",
      "metadata": {
        "colab": {
          "base_uri": "https://localhost:8080/",
          "height": 0
        },
        "id": "L53A8dZ_J1lV",
        "outputId": "bf3a3969-d907-4ab8-884e-9b133c3ab3ab"
      },
      "source": [
        "#Clean Item Fat Content Column\n",
        "print(data['Item_Fat_Content'].unique())\n",
        "data['Item_Fat_Content'] = data['Item_Fat_Content'].replace(['Low Fat', 'LF', 'low fat'], 0)\n",
        "data['Item_Fat_Content'] = data['Item_Fat_Content'].replace(['Regular', 'reg'], 1)\n",
        "print(data['Item_Fat_Content'].unique())"
      ],
      "execution_count": 60,
      "outputs": [
        {
          "output_type": "stream",
          "name": "stdout",
          "text": [
            "['Low Fat' 'Regular' 'low fat' 'LF' 'reg']\n",
            "[0 1]\n"
          ]
        }
      ]
    },
    {
      "cell_type": "code",
      "metadata": {
        "colab": {
          "base_uri": "https://localhost:8080/",
          "height": 0
        },
        "id": "b1Y2q-AiL1TZ",
        "outputId": "7e998a86-aa2d-4a95-8585-6b40b7e214c6"
      },
      "source": [
        "#Clean Item Type Column\n",
        "print(data['Item_Type'].unique())\n",
        "perishable = [\"Breads\", \"Breakfast\", \"Dairy\", \"Fruits and Vegetables\", \"Meat\", \"Seafood\"]\n",
        "non_perishable = [\"Baking Goods\", \"Canned\", \"Frozen Foods\", \"Hard Drinks\", \"Health and Hygiene\", \"Household\",\n",
        "                  \"Soft Drinks\", \"Snack Foods\", \"Starchy Foods\", \"Others\"]\n",
        "data[\"Item_Type\"] = data[\"Item_Type\"].replace(to_replace=perishable, value=\"perishable\")\n",
        "data[\"Item_Type\"] = data[\"Item_Type\"].replace(to_replace=non_perishable, value=\"non_perishable\")\n",
        "data[\"Item_Type\"] = data[\"Item_Type\"].replace('perishable', 0)\n",
        "data[\"Item_Type\"] = data[\"Item_Type\"].replace('non_perishable', 1)\n",
        "print(data['Item_Type'].unique())"
      ],
      "execution_count": 61,
      "outputs": [
        {
          "output_type": "stream",
          "name": "stdout",
          "text": [
            "['Dairy' 'Soft Drinks' 'Meat' 'Fruits and Vegetables' 'Household'\n",
            " 'Baking Goods' 'Snack Foods' 'Frozen Foods' 'Breakfast'\n",
            " 'Health and Hygiene' 'Hard Drinks' 'Canned' 'Breads' 'Starchy Foods'\n",
            " 'Others' 'Seafood']\n",
            "[0 1]\n"
          ]
        }
      ]
    },
    {
      "cell_type": "code",
      "metadata": {
        "colab": {
          "base_uri": "https://localhost:8080/",
          "height": 0
        },
        "id": "ExGdgjPdMesl",
        "outputId": "4b698430-6559-4a85-eb1b-272b11489c17"
      },
      "source": [
        "#Clean Outlet Size Column\n",
        "print(data['Outlet_Size'].unique())\n",
        "data[\"Outlet_Size\"] = data[\"Outlet_Size\"].replace('High', 3)\n",
        "data[\"Outlet_Size\"] = data[\"Outlet_Size\"].replace('Medium', 2)\n",
        "data[\"Outlet_Size\"] = data[\"Outlet_Size\"].replace('Small', 1)\n",
        "data[\"Outlet_Size\"] = data[\"Outlet_Size\"].replace(np.nan, 0)\n",
        "print(data['Outlet_Size'].unique())"
      ],
      "execution_count": 62,
      "outputs": [
        {
          "output_type": "stream",
          "name": "stdout",
          "text": [
            "['Medium' nan 'High' 'Small']\n",
            "[2. 0. 3. 1.]\n"
          ]
        }
      ]
    },
    {
      "cell_type": "code",
      "metadata": {
        "colab": {
          "base_uri": "https://localhost:8080/",
          "height": 0
        },
        "id": "yN--t94VNshh",
        "outputId": "b45075a2-68f7-4921-828f-0c3220b42473"
      },
      "source": [
        "#Clean Outlet Location Column\n",
        "print(data['Outlet_Location_Type'].unique())\n",
        "data[\"Outlet_Location_Type\"] = data[\"Outlet_Location_Type\"].replace(\"Tier 1\", 1)\n",
        "data[\"Outlet_Location_Type\"] = data[\"Outlet_Location_Type\"].replace(\"Tier 2\", 2)\n",
        "data[\"Outlet_Location_Type\"] = data[\"Outlet_Location_Type\"].replace(\"Tier 3\", 3)\n",
        "print(data['Outlet_Location_Type'].unique())"
      ],
      "execution_count": 63,
      "outputs": [
        {
          "output_type": "stream",
          "name": "stdout",
          "text": [
            "['Tier 1' 'Tier 3' 'Tier 2']\n",
            "[1 3 2]\n"
          ]
        }
      ]
    },
    {
      "cell_type": "code",
      "metadata": {
        "colab": {
          "base_uri": "https://localhost:8080/",
          "height": 0
        },
        "id": "dzAw6KxHOjXA",
        "outputId": "5f3aa6af-af63-4cbf-ed28-2d115314dee5"
      },
      "source": [
        "#Clean Outlet Type Column\n",
        "print(data['Outlet_Type'].unique())\n",
        "data[\"Outlet_Type\"] = data[\"Outlet_Type\"].replace(\"Grocery Store\", 0)\n",
        "data[\"Outlet_Type\"] = data[\"Outlet_Type\"].replace(\"Supermarket Type1\", 1)\n",
        "data[\"Outlet_Type\"] = data[\"Outlet_Type\"].replace(\"Supermarket Type2\", 1)\n",
        "data[\"Outlet_Type\"] = data[\"Outlet_Type\"].replace(\"Supermarket Type3\", 3)\n",
        "print(data['Outlet_Type'].unique())"
      ],
      "execution_count": 64,
      "outputs": [
        {
          "output_type": "stream",
          "name": "stdout",
          "text": [
            "['Supermarket Type1' 'Supermarket Type2' 'Grocery Store'\n",
            " 'Supermarket Type3']\n",
            "[1 0 3]\n"
          ]
        }
      ]
    },
    {
      "cell_type": "code",
      "metadata": {
        "colab": {
          "base_uri": "https://localhost:8080/",
          "height": 0
        },
        "id": "Pn9X9n5ySAZa",
        "outputId": "c6db8a10-7433-4b1e-fab8-bba8bc1f9b11"
      },
      "source": [
        "#print cleaned data\n",
        "print(data.head(10))"
      ],
      "execution_count": 65,
      "outputs": [
        {
          "output_type": "stream",
          "name": "stdout",
          "text": [
            "   Item_Weight  Item_Fat_Content  ...  Outlet_Type  Item_Outlet_Sales\n",
            "0        9.300                 0  ...            1          3735.1380\n",
            "1        5.920                 1  ...            1           443.4228\n",
            "2       17.500                 0  ...            1          2097.2700\n",
            "3       19.200                 1  ...            0           732.3800\n",
            "4        8.930                 0  ...            1           994.7052\n",
            "5       10.395                 1  ...            1           556.6088\n",
            "6       13.650                 1  ...            1           343.5528\n",
            "7       12.600                 0  ...            3          4022.7636\n",
            "8       16.200                 1  ...            1          1076.5986\n",
            "9       19.200                 1  ...            1          4710.5350\n",
            "\n",
            "[10 rows x 10 columns]\n"
          ]
        }
      ]
    },
    {
      "cell_type": "code",
      "metadata": {
        "id": "rOVcIRs-POxP"
      },
      "source": [
        "y  = data['Item_Outlet_Sales']\n",
        "x = data.drop(['Item_Outlet_Sales'], axis=1)"
      ],
      "execution_count": 66,
      "outputs": []
    },
    {
      "cell_type": "code",
      "metadata": {
        "id": "qGP2RFwpQMB6"
      },
      "source": [
        "from sklearn.model_selection import train_test_split\n",
        "x_train, x_test, y_train, y_test = train_test_split(x, y, test_size=0.20, random_state=42)"
      ],
      "execution_count": 67,
      "outputs": []
    },
    {
      "cell_type": "code",
      "metadata": {
        "id": "PN-BsQlFQlMR"
      },
      "source": [
        "from sklearn.linear_model import LinearRegression\n",
        "linearRegression = LinearRegression()\n",
        "linearRegression.fit(x_train, y_train)\n",
        "prediction = linearRegression.predict(x_test)"
      ],
      "execution_count": 71,
      "outputs": []
    },
    {
      "cell_type": "code",
      "metadata": {
        "colab": {
          "base_uri": "https://localhost:8080/",
          "height": 0
        },
        "id": "wkYZOPKjSWnr",
        "outputId": "c962ff60-b94a-40af-f93d-c42627ff11f8"
      },
      "source": [
        "final = pd.DataFrame(list(zip(y_test, prediction)), columns =['Actual', 'Predicted'])\n",
        "print(\"Actual Sales VS Predicted Sales\")\n",
        "print(final.head(10))"
      ],
      "execution_count": 74,
      "outputs": [
        {
          "output_type": "stream",
          "name": "stdout",
          "text": [
            "Actual Sales VS Predicted Sales\n",
            "      Actual    Predicted\n",
            "0  1743.0644   961.028092\n",
            "1   356.8688   662.454505\n",
            "2   377.5086   949.707263\n",
            "3  5778.4782  4456.067478\n",
            "4  2356.9320  3224.061636\n",
            "5   865.5400   747.585254\n",
            "6  4613.9940  4851.021897\n",
            "7  2410.8618  2457.356477\n",
            "8  1948.1308  1772.296631\n",
            "9  1937.4780  3181.449336\n"
          ]
        }
      ]
    }
  ]
}